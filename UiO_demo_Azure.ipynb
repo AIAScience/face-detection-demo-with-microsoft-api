{
 "cells": [
  {
   "cell_type": "markdown",
   "metadata": {},
   "source": [
    "# Face Detection using Microsoft Face API\n",
    "https://docs.microsoft.com/en-us/azure/cognitive-services/face/face-api-how-to-topics/howtoidentifyfacesinimage\n",
    "https://westus.dev.cognitive.microsoft.com/docs/services/563879b61984550e40cbbe8d/operations/563879b61984550f30395236"
   ]
  },
  {
   "cell_type": "code",
   "execution_count": 1,
   "metadata": {
    "collapsed": true
   },
   "outputs": [],
   "source": [
    "########### Python 2.7 #############\n",
    "import httplib, urllib, base64\n",
    "import json\n",
    "\n",
    "\n",
    "headers = {\n",
    "    # Request headers\n",
    "    'Content-Type': 'application/json',\n",
    "\n",
    "    # NOTE: Replace the \"Ocp-Apim-Subscription-Key\" value with a valid subscription key.\n",
    "    'Ocp-Apim-Subscription-Key': 'c29e2f1d8ce4483eb65dac69ab6ff926',\n",
    "}"
   ]
  },
  {
   "cell_type": "markdown",
   "metadata": {},
   "source": [
    "## Get your new subscription key from Congitives Services\n",
    "https://portal.azure.com"
   ]
  },
  {
   "cell_type": "code",
   "execution_count": 9,
   "metadata": {
    "collapsed": false
   },
   "outputs": [
    {
     "name": "stdout",
     "output_type": "stream",
     "text": [
      "[{\"faceId\":\"242b90e4-a877-4e9c-bb5c-1b0fa3486196\",\"faceRectangle\":{\"top\":286,\"left\":248,\"width\":201,\"height\":201},\"faceAttributes\":{\"smile\":1.0,\"gender\":\"male\",\"age\":42.1,\"glasses\":\"ReadingGlasses\",\"emotion\":{\"anger\":0.0,\"contempt\":0.0,\"disgust\":0.0,\"fear\":0.0,\"happiness\":1.0,\"neutral\":0.0,\"sadness\":0.0,\"surprise\":0.0}}},{\"faceId\":\"f6561235-1e2e-4fcf-97f3-237f71622245\",\"faceRectangle\":{\"top\":66,\"left\":175,\"width\":148,\"height\":148},\"faceAttributes\":{\"smile\":1.0,\"gender\":\"female\",\"age\":4.5,\"glasses\":\"NoGlasses\",\"emotion\":{\"anger\":0.0,\"contempt\":0.0,\"disgust\":0.0,\"fear\":0.0,\"happiness\":1.0,\"neutral\":0.0,\"sadness\":0.0,\"surprise\":0.0}}}]\n"
     ]
    },
    {
     "data": {
      "text/plain": [
       "[{u'faceAttributes': {u'age': 42.1,\n",
       "   u'emotion': {u'anger': 0.0,\n",
       "    u'contempt': 0.0,\n",
       "    u'disgust': 0.0,\n",
       "    u'fear': 0.0,\n",
       "    u'happiness': 1.0,\n",
       "    u'neutral': 0.0,\n",
       "    u'sadness': 0.0,\n",
       "    u'surprise': 0.0},\n",
       "   u'gender': u'male',\n",
       "   u'glasses': u'ReadingGlasses',\n",
       "   u'smile': 1.0},\n",
       "  u'faceId': u'242b90e4-a877-4e9c-bb5c-1b0fa3486196',\n",
       "  u'faceRectangle': {u'height': 201,\n",
       "   u'left': 248,\n",
       "   u'top': 286,\n",
       "   u'width': 201}},\n",
       " {u'faceAttributes': {u'age': 4.5,\n",
       "   u'emotion': {u'anger': 0.0,\n",
       "    u'contempt': 0.0,\n",
       "    u'disgust': 0.0,\n",
       "    u'fear': 0.0,\n",
       "    u'happiness': 1.0,\n",
       "    u'neutral': 0.0,\n",
       "    u'sadness': 0.0,\n",
       "    u'surprise': 0.0},\n",
       "   u'gender': u'female',\n",
       "   u'glasses': u'NoGlasses',\n",
       "   u'smile': 1.0},\n",
       "  u'faceId': u'f6561235-1e2e-4fcf-97f3-237f71622245',\n",
       "  u'faceRectangle': {u'height': 148, u'left': 175, u'top': 66, u'width': 148}}]"
      ]
     },
     "execution_count": 9,
     "metadata": {},
     "output_type": "execute_result"
    }
   ],
   "source": [
    "\n",
    "\n",
    "params = urllib.urlencode({\n",
    "    # Request parameters\n",
    "    'returnFaceId': 'true',\n",
    "    'returnFaceLandmarks': 'false',\n",
    "    'returnFaceAttributes': 'age,gender,smile,glasses,emotion',\n",
    "})\n",
    "\n",
    "try:\n",
    "    # NOTE: You must use the same region in your REST call as you used to obtain your subscription keys.\n",
    "    #   For example, if you obtained your subscription keys from westus, replace \"westcentralus\" in the \n",
    "    #   URL below with \"westus\".\n",
    "    conn = httplib.HTTPSConnection('westeurope.api.cognitive.microsoft.com')\n",
    "    conn.request(\"POST\", \"/face/v1.0/detect?%s\" % params, \"{\\\"url\\\":\\\"https://lh5.googleusercontent.com/-ed6cmM0559o/AAAAAAAAAAI/AAAAAAABs_o/uLwscELIloI/photo.jpg\\\"}\", headers)\n",
    "    response = conn.getresponse()\n",
    "    data = response.read()\n",
    "    print(data)\n",
    "    conn.close()\n",
    "except Exception as e:\n",
    "    print(\"[Errno {0}] {1}\".format(e.errno, e.strerror))\n",
    "\n",
    "data = json.loads(data)\n",
    "data\n",
    "####################################\n",
    "\n",
    "# ########### Python 3.2 #############\n",
    "# import http.client, urllib.request, urllib.parse, urllib.error, base64\n",
    "\n",
    "# headers = {\n",
    "#     # Request headers\n",
    "#     'Content-Type': 'application/json',\n",
    "\n",
    "#     # NOTE: Replace the \"Ocp-Apim-Subscription-Key\" value with a valid subscription key.\n",
    "#     'Ocp-Apim-Subscription-Key': '6726adbabb494773a28a7a5a21d5974a',\n",
    "# }\n",
    "\n",
    "# params = urllib.parse.urlencode({\n",
    "#     # Request parameters\n",
    "#     'returnFaceId': 'true',\n",
    "#     'returnFaceLandmarks': 'false',\n",
    "#     'returnFaceAttributes': 'age,gender',\n",
    "# })\n",
    "\n",
    "# try:\n",
    "#     # NOTE: You must use the same location in your REST call as you used to obtain your subscription keys.\n",
    "#     #   For example, if you obtained your subscription keys from westus, replace \"westcentralus\" in the \n",
    "#     #   URL below with \"westus\".\n",
    "#     conn = http.client.HTTPSConnection('westcentralus.api.cognitive.microsoft.com')\n",
    "#     conn.request(\"POST\", \"/face/v1.0/detect?%s\" % params, \"{body}\", headers)\n",
    "#     response = conn.getresponse()\n",
    "#     data = response.read()\n",
    "#     print(data)\n",
    "#     conn.close()\n",
    "# except Exception as e:\n",
    "#     print(\"[Errno {0}] {1}\".format(e.errno, e.strerror))\n",
    "\n",
    "# ####################################"
   ]
  },
  {
   "cell_type": "code",
   "execution_count": 8,
   "metadata": {
    "collapsed": false
   },
   "outputs": [
    {
     "data": {
      "text/plain": [
       "[{u'faceAttributes': {u'age': 42.1, u'gender': u'male', u'smile': 1.0},\n",
       "  u'faceId': u'c702dd4d-6a6e-45d6-ad66-f8cc47b4f99e',\n",
       "  u'faceRectangle': {u'height': 201,\n",
       "   u'left': 248,\n",
       "   u'top': 286,\n",
       "   u'width': 201}},\n",
       " {u'faceAttributes': {u'age': 4.5, u'gender': u'female', u'smile': 1.0},\n",
       "  u'faceId': u'e1fe05a6-f3ba-47be-a303-b40f2a187471',\n",
       "  u'faceRectangle': {u'height': 148, u'left': 175, u'top': 66, u'width': 148}}]"
      ]
     },
     "execution_count": 8,
     "metadata": {},
     "output_type": "execute_result"
    }
   ],
   "source": []
  },
  {
   "cell_type": "code",
   "execution_count": null,
   "metadata": {
    "collapsed": true
   },
   "outputs": [],
   "source": [
    "import numpy as np\n",
    "import urllib\n",
    "import cv2\n",
    " \n",
    "# METHOD #1: OpenCV, NumPy, and urllib\n",
    "def url_to_image(url):\n",
    "    # download the image, convert it to a NumPy array, and then read\n",
    "    # it into OpenCV format\n",
    "    resp = urllib.urlopen(url)\n",
    "    image = np.asarray(bytearray(resp.read()), dtype=\"uint8\")\n",
    "    image = cv2.imdecode(image, cv2.IMREAD_COLOR)\n",
    "    # return the image\n",
    "    return image\n"
   ]
  },
  {
   "cell_type": "code",
   "execution_count": null,
   "metadata": {
    "collapsed": false
   },
   "outputs": [],
   "source": [
    "urls = [\n",
    "#     \"http://www.pyimagesearch.com/wp-content/uploads/2015/01/opencv_logo.png\",\n",
    "#     \"http://www.pyimagesearch.com/wp-content/uploads/2015/01/google_logo.png\",\n",
    "     \"https://lh5.googleusercontent.com/-ed6cmM0559o/AAAAAAAAAAI/AAAAAAABs_o/uLwscELIloI/photo.jpg\",\n",
    "]\n",
    " \n",
    "# loop over the image URLs\n",
    "for url in urls:\n",
    "    # download the image URL and display it\n",
    "    print \"downloading %s\" % (url)\n",
    "    image = url_to_image(url)\n",
    "    cv2.imshow(\"Image\", image)\n",
    "    cv2.waitKey(0)"
   ]
  },
  {
   "cell_type": "code",
   "execution_count": null,
   "metadata": {
    "collapsed": false
   },
   "outputs": [],
   "source": [
    "for face in data:\n",
    "    x = face['faceRectangle']['left']\n",
    "    y = face['faceRectangle']['top']\n",
    "    w = face['faceRectangle']['width']\n",
    "    h = face['faceRectangle']['height']\n",
    "    cv2.rectangle(image,(x,y),(x+w,y+h),(0,255,0),2)\n",
    "#     cv2.imshow('Features', image)\n",
    "cv2.imwrite(\"test_face_detection\"+'.png', image)"
   ]
  },
  {
   "cell_type": "code",
   "execution_count": null,
   "metadata": {
    "collapsed": false
   },
   "outputs": [],
   "source": []
  }
 ],
 "metadata": {
  "kernelspec": {
   "display_name": "Python 2",
   "language": "python",
   "name": "python2"
  },
  "language_info": {
   "codemirror_mode": {
    "name": "ipython",
    "version": 2
   },
   "file_extension": ".py",
   "mimetype": "text/x-python",
   "name": "python",
   "nbconvert_exporter": "python",
   "pygments_lexer": "ipython2",
   "version": "2.7.12"
  }
 },
 "nbformat": 4,
 "nbformat_minor": 0
}
