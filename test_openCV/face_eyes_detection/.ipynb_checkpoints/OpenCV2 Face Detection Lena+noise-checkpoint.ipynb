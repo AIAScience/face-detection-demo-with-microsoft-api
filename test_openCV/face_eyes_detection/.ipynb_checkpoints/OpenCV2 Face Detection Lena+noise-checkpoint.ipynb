{
 "cells": [
  {
   "cell_type": "markdown",
   "metadata": {},
   "source": [
    "# OpenCV example. Show webcam image and detect face.\n",
    "It uses Lena's face and add random noise to it if the video capture doesn't work for some reason.\n",
    "https://gist.github.com/astanin/3097851\n",
    "\n",
    "\n",
    "\n",
    "\n",
    "\n",
    "<table >\n",
    "  <tr>\n",
    "    <th>![Lena's picture + random noise](./images/Screenshot_2017-06-15_12-47-50.png)</th>\n",
    "    <th>![Patrick's face captured without noise](./images/Screenshot_2017-06-15_12-50-42.png)</th>\n",
    "  </tr>\n",
    "\n",
    "</table>\n"
   ]
  },
  {
   "cell_type": "code",
   "execution_count": null,
   "metadata": {
    "collapsed": true
   },
   "outputs": [],
   "source": []
  },
  {
   "cell_type": "markdown",
   "metadata": {},
   "source": [
    "## OpenCV Haar Cascade classifer\n",
    "http://docs.opencv.org/trunk/d7/d8b/tutorial_py_face_detection.html\n",
    "https://github.com/opencv/opencv/tree/master/data/haarcascades\n",
    "\n",
    "Exit by pressing `ESC`"
   ]
  },
  {
   "cell_type": "code",
   "execution_count": null,
   "metadata": {
    "collapsed": false
   },
   "outputs": [],
   "source": [
    "from __future__ import print_function\n",
    "\n",
    "import numpy as np\n",
    "import cv2\n",
    "\n",
    "# local modules\n",
    "from video import create_capture\n",
    "from common import clock, draw_str\n",
    "\n",
    "\n",
    "def detect(img, cascade):\n",
    "    rects = cascade.detectMultiScale(img, scaleFactor=1.3, minNeighbors=4, minSize=(30, 30),\n",
    "                                     flags=cv2.CASCADE_SCALE_IMAGE)\n",
    "    if len(rects) == 0:\n",
    "        return []\n",
    "    rects[:,2:] += rects[:,:2]\n",
    "    return rects\n",
    "\n",
    "def draw_rects(img, rects, color):\n",
    "    for x1, y1, x2, y2 in rects:\n",
    "        cv2.rectangle(img, (x1, y1), (x2, y2), color, 2)\n",
    "\n",
    "\n",
    "import sys, getopt\n",
    "print(__doc__)\n",
    "\n",
    "args, video_src = getopt.getopt(sys.argv[2:], '', ['cascade=', 'nested-cascade='])\n",
    "try:\n",
    "    video_src = video_src[0]\n",
    "except:\n",
    "    video_src = 0\n",
    "args = dict(args)\n",
    "fullpath_openCV = '/home/patechoc/anaconda2/share/OpenCV/haarcascades/'\n",
    "cascade_fn = args.get('--cascade', fullpath_openCV + \"haarcascade_frontalface_alt.xml\")\n",
    "nested_fn  = args.get('--nested-cascade', fullpath_openCV + \"haarcascade_eye.xml\")\n",
    "\n",
    "cascade = cv2.CascadeClassifier(cascade_fn)\n",
    "nested = cv2.CascadeClassifier(nested_fn)\n",
    "\n",
    "# cam = create_capture(video_src, fallback='synth:bg=./data/lena.jpg:noise=0.05')\n",
    "cam = create_capture(video_src, fallback='synth:bg=./data/lena.jpg:noise=0.05')\n",
    "\n",
    "while True:\n",
    "    ret, img = cam.read()\n",
    "    gray = cv2.cvtColor(img, cv2.COLOR_BGR2GRAY)\n",
    "    gray = cv2.equalizeHist(gray)\n",
    "\n",
    "    t = clock()\n",
    "    rects = detect(gray, cascade)\n",
    "    vis = img.copy()\n",
    "    draw_rects(vis, rects, (0, 255, 0))\n",
    "    if not nested.empty():\n",
    "        for x1, y1, x2, y2 in rects:\n",
    "            roi = gray[y1:y2, x1:x2]\n",
    "            vis_roi = vis[y1:y2, x1:x2]\n",
    "            subrects = detect(roi.copy(), nested)\n",
    "            draw_rects(vis_roi, subrects, (255, 0, 0))\n",
    "    dt = clock() - t\n",
    "\n",
    "    draw_str(vis, (20, 20), 'time: %.1f ms' % (dt*1000))\n",
    "    cv2.imshow('facedetect', vis)\n",
    "\n",
    "    if cv2.waitKey(5) == 27:\n",
    "        break\n",
    "cv2.destroyAllWindows()"
   ]
  }
 ],
 "metadata": {
  "kernelspec": {
   "display_name": "Python 2",
   "language": "python",
   "name": "python2"
  },
  "language_info": {
   "codemirror_mode": {
    "name": "ipython",
    "version": 2
   },
   "file_extension": ".py",
   "mimetype": "text/x-python",
   "name": "python",
   "nbconvert_exporter": "python",
   "pygments_lexer": "ipython2",
   "version": "2.7.12"
  }
 },
 "nbformat": 4,
 "nbformat_minor": 0
}
