{
 "cells": [
  {
   "cell_type": "code",
   "execution_count": 1,
   "metadata": {
    "collapsed": false
   },
   "outputs": [
    {
     "name": "stdout",
     "output_type": "stream",
     "text": [
      "Automatically created module for IPython interactive environment\n"
     ]
    }
   ],
   "source": [
    "from __future__ import print_function\n",
    "import numpy as np\n",
    "import cv2\n",
    "\n",
    "# local modules\n",
    "from video import create_capture\n",
    "from common import clock, draw_str\n",
    "\n",
    "\n",
    "### CAPTURE VIDEO\n",
    "cam = cv2.VideoCapture(0)\n",
    "#set the width and height, and UNSUCCESSFULLY set the exposure time\n",
    "cam.set(3,1080)\n",
    "cam.set(4,1024)\n",
    "cam.set(15, 0.1)\n",
    "\n",
    "\n",
    "### DEFINE HAAR CASCADE DETECTION FROM COMMAND LINE OR GET DEFAULT\n",
    "def detect(img, cascade):\n",
    "    rects = cascade.detectMultiScale(img, scaleFactor=1.3, minNeighbors=4, minSize=(30, 30),\n",
    "                                     flags=cv2.CASCADE_SCALE_IMAGE)\n",
    "    if len(rects) == 0:\n",
    "        return []\n",
    "    rects[:,2:] += rects[:,:2]\n",
    "    return rects\n",
    "\n",
    "def draw_rects(img, rects, color):\n",
    "    for x1, y1, x2, y2 in rects:\n",
    "        cv2.rectangle(img, (x1, y1), (x2, y2), color, 2)\n",
    "\n",
    "import sys, getopt\n",
    "print(__doc__)\n",
    "\n",
    "\n",
    "args, video_src = getopt.getopt(sys.argv[2:], '', ['cascade=', 'nested-cascade='])\n",
    "try:\n",
    "    video_src = video_src[0]\n",
    "except:\n",
    "    video_src = 0\n",
    "args = dict(args)\n",
    "fullpath_openCV = '/home/patechoc/anaconda2/share/OpenCV/haarcascades/'\n",
    "cascade_fn = args.get('--cascade', fullpath_openCV + \"haarcascade_frontalface_alt.xml\")\n",
    "nested_fn  = args.get('--nested-cascade', fullpath_openCV + \"haarcascade_eye.xml\")\n",
    "\n",
    "### INSTANTIATE THE CLASSIFIERS\n",
    "cascade = cv2.CascadeClassifier(cascade_fn)\n",
    "nested = cv2.CascadeClassifier(nested_fn)\n",
    "\n",
    "\n",
    "\n",
    "\n",
    "\n",
    "while True:\n",
    "    ret, img = cam.read()\n",
    "#     gray = cv2.cvtColor(img, cv2.COLOR_BGR2GRAY) #\n",
    "#     gray = cv2.equalizeHist(gray) #\n",
    "    gray = img\n",
    "#     cv2.imshow(\"input\",img)\n",
    "#     key = cv2.waitKey(10)\n",
    "#     if key == 27:\n",
    "#         break\n",
    "\n",
    "    t = clock()\n",
    "    rects = detect(gray, cascade)  \n",
    "    vis = img.copy()\n",
    "    draw_rects(vis, rects, (0, 255, 0))\n",
    "    if not nested.empty():\n",
    "        for x1, y1, x2, y2 in rects:\n",
    "            roi = gray[y1:y2, x1:x2]\n",
    "            vis_roi = vis[y1:y2, x1:x2]\n",
    "            subrects = detect(roi.copy(), nested)\n",
    "            draw_rects(vis_roi, subrects, (255, 0, 0))\n",
    "    dt = clock() - t\n",
    "\n",
    "    draw_str(vis, (20, 20), 'time: %.1f ms' % (dt*1000))\n",
    "    cv2.imshow('facedetect', vis)\n",
    "\n",
    "    if cv2.waitKey(5) == 27:\n",
    "        break\n",
    "cv2.destroyAllWindows()\n",
    "\n",
    "\n",
    "\n",
    "cv2.destroyAllWindows() \n",
    "cv2.VideoCapture(0).release()"
   ]
  }
 ],
 "metadata": {
  "kernelspec": {
   "display_name": "Python 2",
   "language": "python",
   "name": "python2"
  },
  "language_info": {
   "codemirror_mode": {
    "name": "ipython",
    "version": 2
   },
   "file_extension": ".py",
   "mimetype": "text/x-python",
   "name": "python",
   "nbconvert_exporter": "python",
   "pygments_lexer": "ipython2",
   "version": "2.7.12"
  }
 },
 "nbformat": 4,
 "nbformat_minor": 0
}
